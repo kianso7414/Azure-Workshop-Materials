{
 "cells": [
  {
   "cell_type": "code",
   "execution_count": 2,
   "metadata": {},
   "outputs": [],
   "source": [
    "import openai\n",
    "\n",
    "openai.api_type = \"azure\"\n",
    "openai.api_version = \"2022-12-01\"\n",
    "\n",
    "#set your own api endpoint and key\n",
    "openai.api_base = ''\n",
    "openai.api_key = ''"
   ]
  },
  {
   "cell_type": "code",
   "execution_count": 3,
   "metadata": {},
   "outputs": [],
   "source": [
    "# Three models available for today's workshop\n",
    "gpt35 = 'LU-chatgpt35'\n",
    "davinci = 'LU-text-davinci'\n",
    "ada = 'LU-text-embedding-ada'"
   ]
  },
  {
   "attachments": {},
   "cell_type": "markdown",
   "metadata": {},
   "source": [
    "# Temperature\n",
    "\n",
    "Defaults to 1\n",
    "\n",
    "What sampling temperature to use. Higher values means the model will take more risks. Try 0.9 for more creative applications, and 0 (argmax sampling) for ones with a well-defined answer.\n",
    "\n",
    "We generally recommend altering this or top_p but not both."
   ]
  },
  {
   "cell_type": "code",
   "execution_count": null,
   "metadata": {},
   "outputs": [],
   "source": [
    "prompt = 'Dog is '\n",
    "\n",
    "# try to find out the difference by testing out different temperature (0-1) setting\n",
    "temperature = 1\n",
    "model = davinci\n",
    "for i in range(3):\n",
    "    response = openai.Completion.create(\n",
    "                engine=davinci,\n",
    "                prompt=prompt,\n",
    "                max_tokens=60,\n",
    "                temperature = temperature\n",
    "            )\n",
    "    print(response['choices'][0]['text'])"
   ]
  },
  {
   "attachments": {},
   "cell_type": "markdown",
   "metadata": {},
   "source": [
    "# Top_p\n",
    "\n",
    "Defaults to 1\n",
    "\n",
    "An alternative to sampling with temperature, called nucleus sampling, where the model considers the results of the tokens with top_p probability mass. So 0.1 means only the tokens comprising the top 10% probability mass are considered.\n",
    "\n",
    "We generally recommend altering this or temperature but not both."
   ]
  },
  {
   "cell_type": "code",
   "execution_count": 19,
   "metadata": {},
   "outputs": [],
   "source": [
    "# Temperature set to 1\n",
    "def call_openai(num_times, prompt, top_p):\n",
    "    for i in range(num_times):\n",
    "        \n",
    "        response = openai.Completion.create(\n",
    "            engine=\"text-davinci-003\",\n",
    "            prompt=prompt,\n",
    "            max_tokens=60,\n",
    "            temperature=1,\n",
    "            top_p = top_p\n",
    "        )\n",
    "        print(response['choices'][0]['text'])"
   ]
  },
  {
   "cell_type": "code",
   "execution_count": null,
   "metadata": {},
   "outputs": [],
   "source": [
    "prompt = 'The best pet is a '\n",
    "\n",
    "# Test different top_p value\n",
    "model = davinci\n",
    "temperature = 1\n",
    "top_p = 1\n",
    "\n",
    "for i in range(3):\n",
    "    response = openai.Completion.create(\n",
    "        engine=model,\n",
    "        prompt=prompt,\n",
    "        max_tokens=60,\n",
    "        temperature=temperature,\n",
    "        top_p = top_p\n",
    "    )\n",
    "    print(response['choices'][0]['text']+ '\\n\\n')"
   ]
  },
  {
   "attachments": {},
   "cell_type": "markdown",
   "metadata": {},
   "source": [
    "# n\n",
    "\n",
    "Defaults to 1\n",
    "\n",
    "How many completions to generate for each prompt.\n",
    "\n",
    "Note: Because this parameter generates many completions, it can quickly consume your token quota. Use carefully and ensure that you have reasonable settings for max_tokens and stop."
   ]
  },
  {
   "cell_type": "code",
   "execution_count": null,
   "metadata": {},
   "outputs": [],
   "source": [
    "prompt = 'The best pet is a '\n",
    "model = davinci\n",
    "n = 2\n",
    "\n",
    "response = openai.Completion.create(\n",
    "            engine=model,\n",
    "            prompt=prompt,\n",
    "            max_tokens=60,\n",
    "            n=n\n",
    "        )\n",
    "\n",
    "for i, c in enumerate(response['choices']):\n",
    "    print(f\"Response {i+1}: {c['text']}\")"
   ]
  },
  {
   "attachments": {},
   "cell_type": "markdown",
   "metadata": {},
   "source": [
    "# logprobs\n",
    "\n",
    "Defaults to null\n",
    "\n",
    "Include the log probabilities on the logprobs most likely tokens, as well the chosen tokens. For example, if logprobs is 5, the API will return a list of the 5 most likely tokens. The API will always return the logprob of the sampled token, so there may be up to logprobs+1 elements in the response.\n",
    "\n",
    "The maximum value for logprobs is 5. If you need more than this, please contact us through our Help center and describe your use case."
   ]
  },
  {
   "cell_type": "code",
   "execution_count": null,
   "metadata": {},
   "outputs": [],
   "source": [
    "prompt = 'The best pet is a '\n",
    "model = davinci\n",
    "\n",
    "response = openai.Completion.create(\n",
    "            engine=model,\n",
    "            prompt=prompt,\n",
    "            max_tokens=60,\n",
    "            logprobs = 2,\n",
    "        )\n",
    "\n",
    "print(response['choices'][0]['text'])\n",
    "print(response['choices'][0]['logprobs'])"
   ]
  },
  {
   "attachments": {},
   "cell_type": "markdown",
   "metadata": {},
   "source": [
    "# presence_penalty\n",
    "\n",
    "Defaults to 0\n",
    "\n",
    "Number between -2.0 and 2.0. Positive values penalize new tokens based on whether they appear in the text so far, increasing the model's likelihood to talk about new topics.\n",
    "\n",
    "# frequency_penalty\n",
    "\n",
    "Defaults to 0\n",
    "\n",
    "Number between -2.0 and 2.0. Positive values penalize new tokens based on their existing frequency in the text so far, decreasing the model's likelihood to repeat the same line verbatim.\n",
    "\n",
    "# best_of\n",
    "\n",
    "Defaults to 1\n",
    "\n",
    "Generates best_of completions server-side and returns the \"best\" (the one with the highest log probability per token). Results cannot be streamed.\n",
    "\n",
    "When used with n, best_of controls the number of candidate completions and n specifies how many to return – best_of must be greater than n.\n",
    "\n",
    "Note: Because this parameter generates many completions, it can quickly consume your token quota. Use carefully and ensure that you have reasonable settings for max_tokens and stop.\n",
    "\n",
    "# logit_bias\n",
    "\n",
    "Defaults to null\n",
    "\n",
    "Modify the likelihood of specified tokens appearing in the completion.\n",
    "\n",
    "Accepts a json object that maps tokens (specified by their token ID in the GPT tokenizer) to an associated bias value from -100 to 100. You can use this tokenizer tool (which works for both GPT-2 and GPT-3) to convert text to token IDs. Mathematically, the bias is added to the logits generated by the model prior to sampling. The exact effect will vary per model, but values between -1 and 1 should decrease or increase likelihood of selection; values like -100 or 100 should result in a ban or exclusive selection of the relevant token.\n",
    "\n",
    "As an example, you can pass {\"50256\": -100} to prevent the <|endoftext|> token from being generated.\n",
    "\n",
    "Reference: OpenAI API Reference [https://platform.openai.com/docs/api-reference/completions]"
   ]
  },
  {
   "attachments": {},
   "cell_type": "markdown",
   "metadata": {},
   "source": []
  }
 ],
 "metadata": {
  "kernelspec": {
   "display_name": "azureml_py310_sdkv2",
   "language": "python",
   "name": "python3"
  },
  "language_info": {
   "codemirror_mode": {
    "name": "ipython",
    "version": 3
   },
   "file_extension": ".py",
   "mimetype": "text/x-python",
   "name": "python",
   "nbconvert_exporter": "python",
   "pygments_lexer": "ipython3",
   "version": "3.10.11"
  },
  "orig_nbformat": 4,
  "vscode": {
   "interpreter": {
    "hash": "2139c70ac98f3202d028164a545621647e07f47fd6f5d8ac55cf952bf7c15ed1"
   }
  }
 },
 "nbformat": 4,
 "nbformat_minor": 2
}
